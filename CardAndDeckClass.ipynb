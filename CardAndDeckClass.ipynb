{
 "cells": [
  {
   "cell_type": "code",
   "execution_count": 39,
   "metadata": {},
   "outputs": [],
   "source": [
    "# Card\n",
    "# SUIT , RANK , VALUE\n",
    "import random"
   ]
  },
  {
   "cell_type": "code",
   "execution_count": 40,
   "metadata": {},
   "outputs": [],
   "source": [
    "suits = ('Hearts','Diamonds','Spades','Clubs')\n",
    "ranks = ('Two','Three','Four','Five','Six','Seven','Eight','Nine','Ten','Jack','Queen','King','Ace')\n",
    "values = {'One' : 1, 'Two' : 2, 'Three' : 3, 'Four': 4,'Five': 5,'Six': 6,'Seven': 7,\n",
    "         'Eight' : 8,'Nine' : 9,'Ten' : 10, 'Jack': 11, 'Queen' : 12,'King' : 13,'Ace' : 14}"
   ]
  },
  {
   "cell_type": "code",
   "execution_count": 113,
   "metadata": {},
   "outputs": [],
   "source": [
    "class Card():\n",
    "    \n",
    "    def __init__(self,suit,rank):\n",
    "        self.suit = suit\n",
    "        self.rank = rank\n",
    "        self.value = values[rank]\n",
    "    \n",
    "    def __str__(self):\n",
    "        return self.rank + \" of \" + self.suit"
   ]
  },
  {
   "cell_type": "code",
   "execution_count": 114,
   "metadata": {},
   "outputs": [],
   "source": [
    "# Deck\n",
    "# 52 Card objects\n",
    "# Hold as a list of card objects.\n",
    "# Random library shuffle() func\n",
    "# Pop method from cards list"
   ]
  },
  {
   "cell_type": "code",
   "execution_count": 115,
   "metadata": {},
   "outputs": [],
   "source": [
    "class Deck():\n",
    "    \n",
    "    def __init__(self):\n",
    "        \n",
    "        self.all_cards = []\n",
    "        \n",
    "        for suit in suits:\n",
    "            for rank in ranks:\n",
    "                # Create the Card Object\n",
    "                created_card = Card(suit,rank)\n",
    "                self.all_cards.append(created_card)\n",
    "    def shuffle(self):\n",
    "        \n",
    "        random.shuffle(self.all_cards)\n",
    "    \n",
    "    def deal_one(self):\n",
    "        \n",
    "        return self.all_cards.pop()"
   ]
  },
  {
   "cell_type": "code",
   "execution_count": 116,
   "metadata": {},
   "outputs": [],
   "source": [
    "new_deck = Deck()"
   ]
  },
  {
   "cell_type": "code",
   "execution_count": 117,
   "metadata": {},
   "outputs": [],
   "source": [
    "first_card = new_deck.all_cards[0]"
   ]
  },
  {
   "cell_type": "code",
   "execution_count": 118,
   "metadata": {},
   "outputs": [
    {
     "name": "stdout",
     "output_type": "stream",
     "text": [
      "Two of Hearts\n"
     ]
    }
   ],
   "source": [
    "print(first_card)"
   ]
  },
  {
   "cell_type": "code",
   "execution_count": 119,
   "metadata": {},
   "outputs": [],
   "source": [
    "last_card = new_deck.all_cards[-1]"
   ]
  },
  {
   "cell_type": "code",
   "execution_count": 120,
   "metadata": {},
   "outputs": [
    {
     "name": "stdout",
     "output_type": "stream",
     "text": [
      "Ace of Clubs\n"
     ]
    }
   ],
   "source": [
    "print(last_card)"
   ]
  },
  {
   "cell_type": "code",
   "execution_count": 121,
   "metadata": {},
   "outputs": [],
   "source": [
    "new_deck.shuffle() # You have to call this method because it is not in __init__ , so it is not\n",
    "# executing when the deck class creating"
   ]
  },
  {
   "cell_type": "code",
   "execution_count": 122,
   "metadata": {},
   "outputs": [
    {
     "name": "stdout",
     "output_type": "stream",
     "text": [
      "Ace of Diamonds\n",
      "Nine of Hearts\n",
      "Jack of Diamonds\n",
      "Ten of Hearts\n",
      "Five of Spades\n",
      "Jack of Hearts\n",
      "Nine of Spades\n",
      "Ten of Diamonds\n",
      "King of Clubs\n",
      "Four of Clubs\n",
      "Five of Clubs\n",
      "Three of Spades\n",
      "Ten of Clubs\n",
      "Two of Clubs\n",
      "Jack of Spades\n",
      "Ace of Clubs\n",
      "Four of Diamonds\n",
      "Five of Hearts\n",
      "Queen of Hearts\n",
      "Ace of Spades\n",
      "Ten of Spades\n",
      "King of Spades\n",
      "Eight of Diamonds\n",
      "Four of Hearts\n",
      "Seven of Clubs\n",
      "Four of Spades\n",
      "Two of Hearts\n",
      "Queen of Diamonds\n",
      "Two of Spades\n",
      "Eight of Spades\n",
      "Nine of Diamonds\n",
      "Seven of Hearts\n",
      "Nine of Clubs\n",
      "Seven of Diamonds\n",
      "Queen of Clubs\n",
      "Three of Clubs\n",
      "Six of Spades\n",
      "Eight of Hearts\n",
      "King of Hearts\n",
      "Six of Hearts\n",
      "Queen of Spades\n",
      "Six of Clubs\n",
      "Jack of Clubs\n",
      "Five of Diamonds\n",
      "Eight of Clubs\n",
      "Seven of Spades\n",
      "King of Diamonds\n",
      "Six of Diamonds\n",
      "Ace of Hearts\n",
      "Three of Diamonds\n",
      "Three of Hearts\n",
      "Two of Diamonds\n"
     ]
    }
   ],
   "source": [
    "for card_object in new_deck.all_cards:\n",
    "    print(card_object)"
   ]
  },
  {
   "cell_type": "code",
   "execution_count": 125,
   "metadata": {},
   "outputs": [],
   "source": [
    "mycard = new_deck.deal_one()"
   ]
  },
  {
   "cell_type": "code",
   "execution_count": 126,
   "metadata": {},
   "outputs": [
    {
     "name": "stdout",
     "output_type": "stream",
     "text": [
      "Three of Hearts\n"
     ]
    }
   ],
   "source": [
    "print(mycard)"
   ]
  },
  {
   "cell_type": "code",
   "execution_count": null,
   "metadata": {},
   "outputs": [],
   "source": [
    "len(new_deck)"
   ]
  }
 ],
 "metadata": {
  "kernelspec": {
   "display_name": "Python 3",
   "language": "python",
   "name": "python3"
  },
  "language_info": {
   "codemirror_mode": {
    "name": "ipython",
    "version": 3
   },
   "file_extension": ".py",
   "mimetype": "text/x-python",
   "name": "python",
   "nbconvert_exporter": "python",
   "pygments_lexer": "ipython3",
   "version": "3.8.3"
  }
 },
 "nbformat": 4,
 "nbformat_minor": 4
}
